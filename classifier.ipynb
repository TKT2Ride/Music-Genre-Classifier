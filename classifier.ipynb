{
 "cells": [
  {
   "cell_type": "code",
   "execution_count": 1,
   "metadata": {},
   "outputs": [],
   "source": [
    "from network import Genre_Model\n",
    "import torch\n",
    "import matplotlib.pyplot as plt\n",
    "import numpy as np\n",
    "import torch.nn as nn\n",
    "import torchvision\n",
    "from torchvision import transforms, datasets\n",
    "import torch.optim as optim\n",
    "\n",
    "from sklearn.metrics import confusion_matrix\n",
    "import pandas as pd\n",
    "import seaborn as sn\n"
   ]
  },
  {
   "cell_type": "code",
   "execution_count": 2,
   "metadata": {},
   "outputs": [],
   "source": [
    "def load_data():\n",
    "    data_path = 'Data/images_original/'\n",
    "    transform = transforms.Compose([transforms.ToTensor()])\n",
    "    return datasets.ImageFolder(data_path, transform=transform)\n",
    "#         blues = datasets.ImageFolder(data_path +'blues', transform=transform)\n",
    "#         classical = datasets.ImageFolder(data_path + 'classical', transform=transform)\n",
    "#         country = datasets.ImageFolder(data_path + 'country', transform=transform)\n",
    "#         disco = datasets.ImageFolder(data_path + 'disco', transform=transform)\n",
    "#         hiphop = datasets.ImageFolder(data_path + 'hiphop', transform=transform)\n",
    "#         jazz = datasets.ImageFolder(data_path + 'jazz', transform=transform)\n",
    "#         metal = datasets.ImageFolder(data_path + 'metal', transform=transform)\n",
    "#         pop = datasets.ImageFolder(data_path + 'pop', transform=transform)\n",
    "#         reggae = datasets.ImageFolder(data_path + 'reggae', transform=transform)\n",
    "#         rock = datasets.ImageFolder(data_path + 'rock', transform=transform)\n",
    "#         return torch.utils.data.ConcatDataset(\n",
    "#             [blues, classical, country, disco, hiphop, jazz, metal, pop, reggae, rock])\n"
   ]
  },
  {
   "cell_type": "code",
   "execution_count": 3,
   "metadata": {},
   "outputs": [],
   "source": [
    "dataset = load_data()\n",
    "split_percent = 0.2\n",
    "length = len(dataset)\n",
    "test_threshold = int(length * split_percent)\n",
    "\n",
    "test, train = torch.utils.data.random_split(\n",
    "    dataset, [test_threshold, length-test_threshold])\n",
    "\n",
    "# test = torch.utils.data.Subset(dataset, range(test_threshold))\n",
    "# train = torch.utils.data.Subset(dataset, range(test_threshold, length))\n"
   ]
  },
  {
   "cell_type": "code",
   "execution_count": 4,
   "metadata": {},
   "outputs": [],
   "source": [
    "net = Genre_Model()\n"
   ]
  },
  {
   "cell_type": "code",
   "execution_count": 5,
   "metadata": {},
   "outputs": [],
   "source": [
    "criterion = nn.CrossEntropyLoss()\n",
    "optimizer = optim.SGD(net.parameters(), lr=0.001, momentum=0.9)\n",
    "batch_size = 32\n",
    "epochs = 20\n"
   ]
  },
  {
   "cell_type": "code",
   "execution_count": 6,
   "metadata": {},
   "outputs": [],
   "source": [
    "train_loader = torch.utils.data.DataLoader(\n",
    "    train, batch_size=batch_size, shuffle=True)\n",
    "test_loader = torch.utils.data.DataLoader(\n",
    "    test, batch_size=batch_size, shuffle=True)\n"
   ]
  },
  {
   "cell_type": "code",
   "execution_count": 7,
   "metadata": {},
   "outputs": [],
   "source": [
    "# images, labels = next(iter(train_loader))\n",
    "# for img, label in zip(images, labels):\n",
    "#     img = img.permute(1, 2, 0) # Have to arrange the channel dimension to be last to display\n",
    "#     print(img.size())\n",
    "#     plt.imshow(img)\n",
    "#     plt.title(label)\n",
    "#     plt.show()"
   ]
  },
  {
   "cell_type": "code",
   "execution_count": 16,
   "metadata": {
    "scrolled": false
   },
   "outputs": [
    {
     "name": "stdout",
     "output_type": "stream",
     "text": [
      "[1,   20] loss: 2.201940417289734\n",
      "[2,   20] loss: 2.199594700336456\n",
      "[3,   20] loss: 2.2036529660224913\n",
      "[4,   20] loss: 2.197204029560089\n",
      "[5,   20] loss: 2.1978978157043456\n",
      "[6,   20] loss: 2.1966622114181518\n",
      "[7,   20] loss: 2.2006404399871826\n",
      "[8,   20] loss: 2.187481951713562\n",
      "[9,   20] loss: 2.18471155166626\n",
      "[10,   20] loss: 2.1976393342018126\n",
      "[11,   20] loss: 2.189295065402985\n",
      "[12,   20] loss: 2.1707416772842407\n",
      "[13,   20] loss: 2.1754480242729186\n",
      "[14,   20] loss: 2.173742175102234\n",
      "[15,   20] loss: 2.1574888110160826\n",
      "[16,   20] loss: 2.1604071378707888\n",
      "[17,   20] loss: 2.1577154994010925\n",
      "[18,   20] loss: 2.145165228843689\n",
      "[19,   20] loss: 2.1457064509391786\n",
      "[20,   20] loss: 2.145378816127777\n",
      "Finished Training\n",
      "CPU times: user 10min 52s, sys: 31.2 s, total: 11min 23s\n",
      "Wall time: 2min 14s\n"
     ]
    }
   ],
   "source": [
    "%%time\n",
    "\n",
    "device = 'cuda' if torch.cuda.is_available() else 'cpu'\n",
    "net.to(device)\n",
    "\n",
    "losses = []\n",
    "mean_loss_per_epoch = []\n",
    "\n",
    "for epoch in range(epochs):\n",
    "\n",
    "    running_loss = 0.0\n",
    "    for i, data in enumerate(train_loader, 0):\n",
    "        inputs, labels = data\n",
    "        # Uses the GPU if available\n",
    "        inputs = inputs.cuda()\n",
    "        labels = labels.cuda()\n",
    "#         print(labels)\n",
    "\n",
    "        optimizer.zero_grad()\n",
    "\n",
    "        outputs = net(inputs)  # Forward pass\n",
    "#         print(outputs, labels)\n",
    "        loss = criterion(outputs, labels)\n",
    "        loss.backward()\n",
    "        optimizer.step()\n",
    "        \n",
    "        running_loss += loss.item()\n",
    "        if i%20 == 19:\n",
    "            print(f'[{epoch+1},{i+1:5d}] loss: {running_loss/20}')\n",
    "            running_loss = 0.0\n",
    "#         losses.append(loss.item())\n",
    "        \n",
    "#         print(\"Epoch\", epoch + 1, \"loss:\", running_loss)\n",
    "#     mean_loss = sum(losses) / len(losses)\n",
    "#     mean_loss_per_epoch.append(mean_loss)\n",
    "\n",
    "\n",
    "print('Finished Training')\n"
   ]
  },
  {
   "cell_type": "code",
   "execution_count": 9,
   "metadata": {
    "scrolled": false
   },
   "outputs": [
    {
     "data": {
      "image/png": "[encoded data removed]",
      "text/plain": [
       "<Figure size 432x288 with 1 Axes>"
      ]
     },
     "metadata": {
      "needs_background": "light"
     },
     "output_type": "display_data"
    }
   ],
   "source": [
    "plt.plot(range(20), mean_loss_per_epoch)\n",
    "plt.xlabel(\"Epochs\")\n",
    "plt.ylabel(\"Loss\")\n",
    "plt.title(\"Loss Across Training\")\n",
    "plt.show()\n"
   ]
  },
  {
   "cell_type": "code",
   "execution_count": 17,
   "metadata": {
    "scrolled": true
   },
   "outputs": [
    {
     "name": "stdout",
     "output_type": "stream",
     "text": [
      "Accuracy: 25.628140703517587 %\n"
     ]
    }
   ],
   "source": [
    "device = 'cuda' if torch.cuda.is_available() else 'cpu'\n",
    "net.to(device)\n",
    "\n",
    "correct = 0\n",
    "total = 0\n",
    "\n",
    "y_pred = []\n",
    "y_true = []\n",
    "\n",
    "with torch.no_grad():\n",
    "    for data in test_loader:\n",
    "        images, labels = data\n",
    "        images = images.cuda()\n",
    "        labels = labels.cuda()\n",
    "        outputs = net(images)\n",
    "        _, predicted = torch.max(outputs.data, 1)\n",
    "        total += labels.size(0)\n",
    "#         print(labels, predicted)\n",
    "        correct += (predicted == labels).sum().item()\n",
    "        y_pred.extend(predicted)\n",
    "        y_true.extend(labels)\n",
    "\n",
    "print('Accuracy:', 100 * correct / total,  '%')\n"
   ]
  },
  {
   "cell_type": "code",
   "execution_count": 18,
   "metadata": {},
   "outputs": [],
   "source": [
    "y_pred2 = []\n",
    "for i in y_pred:\n",
    "    y_pred2.append(i.item())\n",
    "\n",
    "y_true2 = []\n",
    "for i in y_true:\n",
    "    y_true2.append(i.item())\n"
   ]
  },
  {
   "cell_type": "code",
   "execution_count": 19,
   "metadata": {},
   "outputs": [
    {
     "data": {
      "text/plain": [
       "<AxesSubplot:>"
      ]
     },
     "execution_count": 19,
     "metadata": {},
     "output_type": "execute_result"
    },
    {
     "data": {
      "image/png": "[encoded data removed]",
      "text/plain": [
       "<Figure size 864x504 with 2 Axes>"
      ]
     },
     "metadata": {
      "needs_background": "light"
     },
     "output_type": "display_data"
    }
   ],
   "source": [
    "classes = ('Blues', 'Classical', 'Country', 'Disco', 'Hiphop',\n",
    "           'Jazz', 'Metal', 'Pop', 'Reggae', 'Rock')\n",
    "\n",
    "\n",
    "cf_matrix = confusion_matrix(y_true2, y_pred2)\n",
    "df_cm = pd.DataFrame(cf_matrix/np.sum(cf_matrix) * 10, index=[i for i in classes],\n",
    "                     columns=[i for i in classes])\n",
    "plt.figure(figsize=(12, 7))\n",
    "sn.heatmap(df_cm, annot=True)\n"
   ]
  },
  {
   "cell_type": "code",
   "execution_count": null,
   "metadata": {},
   "outputs": [],
   "source": [
    "\n"
   ]
  },
  {
   "cell_type": "code",
   "execution_count": null,
   "metadata": {},
   "outputs": [],
   "source": []
  },
  {
   "cell_type": "code",
   "execution_count": null,
   "metadata": {},
   "outputs": [],
   "source": []
  }
 ],
 "metadata": {
  "kernelspec": {
   "display_name": "Python 3",
   "language": "python",
   "name": "python3"
  },
  "language_info": {
   "codemirror_mode": {
    "name": "ipython",
    "version": 3
   },
   "file_extension": ".py",
   "mimetype": "text/x-python",
   "name": "python",
   "nbconvert_exporter": "python",
   "pygments_lexer": "ipython3",
   "version": "3.6.10"
  },
  "vscode": {
   "interpreter": {
    "hash": "31f2aee4e71d21fbe5cf8b01ff0e069b9275f58929596ceb00d14d90e3e16cd6"
   }
  }
 },
 "nbformat": 4,
 "nbformat_minor": 2
}
